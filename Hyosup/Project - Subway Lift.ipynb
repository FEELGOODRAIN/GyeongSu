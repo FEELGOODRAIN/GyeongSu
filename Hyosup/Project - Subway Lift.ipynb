{
 "cells": [
  {
   "cell_type": "code",
   "execution_count": 63,
   "id": "b915b418",
   "metadata": {
    "ExecuteTime": {
     "end_time": "2023-10-17T02:00:06.927186Z",
     "start_time": "2023-10-17T02:00:02.148997Z"
    }
   },
   "outputs": [
    {
     "name": "stdout",
     "output_type": "stream",
     "text": [
      "Requirement already satisfied: geopandas in c:\\anaconda3\\lib\\site-packages (0.13.2)\n",
      "Requirement already satisfied: fiona>=1.8.19 in c:\\anaconda3\\lib\\site-packages (from geopandas) (1.9.5)\n",
      "Requirement already satisfied: packaging in c:\\anaconda3\\lib\\site-packages (from geopandas) (23.1)\n",
      "Requirement already satisfied: pandas>=1.1.0 in c:\\anaconda3\\lib\\site-packages (from geopandas) (1.5.3)\n",
      "Requirement already satisfied: pyproj>=3.0.1 in c:\\anaconda3\\lib\\site-packages (from geopandas) (3.5.0)\n",
      "Requirement already satisfied: shapely>=1.7.1 in c:\\anaconda3\\lib\\site-packages (from geopandas) (2.0.2)\n",
      "Requirement already satisfied: attrs>=19.2.0 in c:\\anaconda3\\lib\\site-packages (from fiona>=1.8.19->geopandas) (22.1.0)\n",
      "Requirement already satisfied: certifi in c:\\anaconda3\\lib\\site-packages (from fiona>=1.8.19->geopandas) (2023.7.22)\n",
      "Requirement already satisfied: click~=8.0 in c:\\anaconda3\\lib\\site-packages (from fiona>=1.8.19->geopandas) (8.0.4)\n",
      "Requirement already satisfied: click-plugins>=1.0 in c:\\anaconda3\\lib\\site-packages (from fiona>=1.8.19->geopandas) (1.1.1)\n",
      "Requirement already satisfied: cligj>=0.5 in c:\\anaconda3\\lib\\site-packages (from fiona>=1.8.19->geopandas) (0.7.2)\n",
      "Requirement already satisfied: six in c:\\anaconda3\\lib\\site-packages (from fiona>=1.8.19->geopandas) (1.16.0)\n",
      "Requirement already satisfied: setuptools in c:\\anaconda3\\lib\\site-packages (from fiona>=1.8.19->geopandas) (68.0.0)\n",
      "Requirement already satisfied: importlib-metadata in c:\\anaconda3\\lib\\site-packages (from fiona>=1.8.19->geopandas) (6.0.0)\n",
      "Requirement already satisfied: python-dateutil>=2.8.1 in c:\\anaconda3\\lib\\site-packages (from pandas>=1.1.0->geopandas) (2.8.2)\n",
      "Requirement already satisfied: pytz>=2020.1 in c:\\anaconda3\\lib\\site-packages (from pandas>=1.1.0->geopandas) (2022.7)\n",
      "Requirement already satisfied: numpy>=1.20.3 in c:\\anaconda3\\lib\\site-packages (from pandas>=1.1.0->geopandas) (1.24.3)\n",
      "Requirement already satisfied: colorama in c:\\anaconda3\\lib\\site-packages (from click~=8.0->fiona>=1.8.19->geopandas) (0.4.6)\n",
      "Requirement already satisfied: zipp>=0.5 in c:\\anaconda3\\lib\\site-packages (from importlib-metadata->fiona>=1.8.19->geopandas) (3.11.0)\n"
     ]
    }
   ],
   "source": [
    "!pip install geopandas\n",
    "\n",
    "import gc\n",
    "import glob\n",
    "import geopandas as gpd\n",
    "import pandas as pd\n",
    "import numpy as np\n",
    "import matplotlib.pyplot as plt\n",
    "import seaborn as sns\n",
    "\n",
    "path = ('C:/k_digital/Project Data')\n",
    "\n",
    "plt.rc('font', family='Malgun Gothic')"
   ]
  },
  {
   "cell_type": "code",
   "execution_count": 64,
   "id": "42e882e9",
   "metadata": {
    "ExecuteTime": {
     "end_time": "2023-10-17T02:00:11.202855Z",
     "start_time": "2023-10-17T02:00:11.193001Z"
    }
   },
   "outputs": [],
   "source": [
    "# 지하철 휠체어 리프트 보유 역 비율 분석"
   ]
  },
  {
   "cell_type": "code",
   "execution_count": 65,
   "id": "5888b8dc",
   "metadata": {
    "ExecuteTime": {
     "end_time": "2023-10-17T02:00:11.427450Z",
     "start_time": "2023-10-17T02:00:11.394916Z"
    }
   },
   "outputs": [],
   "source": [
    "sub = pd.read_csv(path + '/서울시 지하철 역사 노약자 장애인 편의시설 현황.csv', encoding = 'euc-kr')"
   ]
  },
  {
   "cell_type": "code",
   "execution_count": 66,
   "id": "b8fb2542",
   "metadata": {
    "ExecuteTime": {
     "end_time": "2023-10-17T02:00:11.576876Z",
     "start_time": "2023-10-17T02:00:11.563765Z"
    }
   },
   "outputs": [
    {
     "data": {
      "text/html": [
       "<div>\n",
       "<style scoped>\n",
       "    .dataframe tbody tr th:only-of-type {\n",
       "        vertical-align: middle;\n",
       "    }\n",
       "\n",
       "    .dataframe tbody tr th {\n",
       "        vertical-align: top;\n",
       "    }\n",
       "\n",
       "    .dataframe thead th {\n",
       "        text-align: right;\n",
       "    }\n",
       "</style>\n",
       "<table border=\"1\" class=\"dataframe\">\n",
       "  <thead>\n",
       "    <tr style=\"text-align: right;\">\n",
       "      <th></th>\n",
       "      <th>호선</th>\n",
       "      <th>역명</th>\n",
       "      <th>엘리베이터(E/V)</th>\n",
       "      <th>에스컬레이터(E/S)</th>\n",
       "      <th>휠체어리프트(W/L)</th>\n",
       "      <th>수평자동보도(M/W)</th>\n",
       "    </tr>\n",
       "  </thead>\n",
       "  <tbody>\n",
       "    <tr>\n",
       "      <th>0</th>\n",
       "      <td>1호선</td>\n",
       "      <td>서울역(1)</td>\n",
       "      <td>4</td>\n",
       "      <td>5</td>\n",
       "      <td>1</td>\n",
       "      <td>0</td>\n",
       "    </tr>\n",
       "    <tr>\n",
       "      <th>1</th>\n",
       "      <td>1호선</td>\n",
       "      <td>시청(1)</td>\n",
       "      <td>3</td>\n",
       "      <td>3</td>\n",
       "      <td>0</td>\n",
       "      <td>0</td>\n",
       "    </tr>\n",
       "    <tr>\n",
       "      <th>2</th>\n",
       "      <td>1호선</td>\n",
       "      <td>종각</td>\n",
       "      <td>4</td>\n",
       "      <td>2</td>\n",
       "      <td>0</td>\n",
       "      <td>0</td>\n",
       "    </tr>\n",
       "    <tr>\n",
       "      <th>3</th>\n",
       "      <td>1호선</td>\n",
       "      <td>종로3가(1)</td>\n",
       "      <td>3</td>\n",
       "      <td>4</td>\n",
       "      <td>0</td>\n",
       "      <td>0</td>\n",
       "    </tr>\n",
       "    <tr>\n",
       "      <th>4</th>\n",
       "      <td>1호선</td>\n",
       "      <td>종로5가</td>\n",
       "      <td>3</td>\n",
       "      <td>0</td>\n",
       "      <td>0</td>\n",
       "      <td>0</td>\n",
       "    </tr>\n",
       "    <tr>\n",
       "      <th>...</th>\n",
       "      <td>...</td>\n",
       "      <td>...</td>\n",
       "      <td>...</td>\n",
       "      <td>...</td>\n",
       "      <td>...</td>\n",
       "      <td>...</td>\n",
       "    </tr>\n",
       "    <tr>\n",
       "      <th>281</th>\n",
       "      <td>9호선(3단계)</td>\n",
       "      <td>송파나루역</td>\n",
       "      <td>5</td>\n",
       "      <td>6</td>\n",
       "      <td>0</td>\n",
       "      <td>0</td>\n",
       "    </tr>\n",
       "    <tr>\n",
       "      <th>282</th>\n",
       "      <td>9호선(3단계)</td>\n",
       "      <td>한성백제역</td>\n",
       "      <td>3</td>\n",
       "      <td>12</td>\n",
       "      <td>0</td>\n",
       "      <td>0</td>\n",
       "    </tr>\n",
       "    <tr>\n",
       "      <th>283</th>\n",
       "      <td>9호선(3단계)</td>\n",
       "      <td>올림픽공원역</td>\n",
       "      <td>3</td>\n",
       "      <td>14</td>\n",
       "      <td>0</td>\n",
       "      <td>0</td>\n",
       "    </tr>\n",
       "    <tr>\n",
       "      <th>284</th>\n",
       "      <td>9호선(3단계)</td>\n",
       "      <td>둔촌오륜역</td>\n",
       "      <td>3</td>\n",
       "      <td>8</td>\n",
       "      <td>0</td>\n",
       "      <td>0</td>\n",
       "    </tr>\n",
       "    <tr>\n",
       "      <th>285</th>\n",
       "      <td>9호선(3단계)</td>\n",
       "      <td>중앙보훈병원역</td>\n",
       "      <td>5</td>\n",
       "      <td>10</td>\n",
       "      <td>0</td>\n",
       "      <td>0</td>\n",
       "    </tr>\n",
       "  </tbody>\n",
       "</table>\n",
       "<p>286 rows × 6 columns</p>\n",
       "</div>"
      ],
      "text/plain": [
       "           호선       역명  엘리베이터(E/V)  에스컬레이터(E/S)  휠체어리프트(W/L)  수평자동보도(M/W)\n",
       "0         1호선   서울역(1)           4            5            1            0\n",
       "1         1호선    시청(1)           3            3            0            0\n",
       "2         1호선       종각           4            2            0            0\n",
       "3         1호선  종로3가(1)           3            4            0            0\n",
       "4         1호선     종로5가           3            0            0            0\n",
       "..        ...      ...         ...          ...          ...          ...\n",
       "281  9호선(3단계)    송파나루역           5            6            0            0\n",
       "282  9호선(3단계)    한성백제역           3           12            0            0\n",
       "283  9호선(3단계)   올림픽공원역           3           14            0            0\n",
       "284  9호선(3단계)    둔촌오륜역           3            8            0            0\n",
       "285  9호선(3단계)  중앙보훈병원역           5           10            0            0\n",
       "\n",
       "[286 rows x 6 columns]"
      ]
     },
     "execution_count": 66,
     "metadata": {},
     "output_type": "execute_result"
    }
   ],
   "source": [
    "sub"
   ]
  },
  {
   "cell_type": "code",
   "execution_count": 67,
   "id": "3cc1ae9a",
   "metadata": {
    "ExecuteTime": {
     "end_time": "2023-10-17T02:00:11.760801Z",
     "start_time": "2023-10-17T02:00:11.745779Z"
    }
   },
   "outputs": [],
   "source": [
    "# 9호선(*단계) 를 9호선으로 수정"
   ]
  },
  {
   "cell_type": "code",
   "execution_count": 68,
   "id": "fffd036e",
   "metadata": {
    "ExecuteTime": {
     "end_time": "2023-10-17T02:00:11.944143Z",
     "start_time": "2023-10-17T02:00:11.932507Z"
    }
   },
   "outputs": [],
   "source": [
    "guho = sub['호선'].str[:3] == '9호선'"
   ]
  },
  {
   "cell_type": "code",
   "execution_count": 69,
   "id": "ae4d2851",
   "metadata": {
    "ExecuteTime": {
     "end_time": "2023-10-17T02:00:12.110855Z",
     "start_time": "2023-10-17T02:00:12.096426Z"
    }
   },
   "outputs": [],
   "source": [
    "sub.loc[guho, '호선'] = '9호선'\n"
   ]
  },
  {
   "cell_type": "code",
   "execution_count": 70,
   "id": "91ba3d33",
   "metadata": {
    "ExecuteTime": {
     "end_time": "2023-10-17T02:00:12.310646Z",
     "start_time": "2023-10-17T02:00:12.285286Z"
    }
   },
   "outputs": [
    {
     "data": {
      "text/html": [
       "<div>\n",
       "<style scoped>\n",
       "    .dataframe tbody tr th:only-of-type {\n",
       "        vertical-align: middle;\n",
       "    }\n",
       "\n",
       "    .dataframe tbody tr th {\n",
       "        vertical-align: top;\n",
       "    }\n",
       "\n",
       "    .dataframe thead th {\n",
       "        text-align: right;\n",
       "    }\n",
       "</style>\n",
       "<table border=\"1\" class=\"dataframe\">\n",
       "  <thead>\n",
       "    <tr style=\"text-align: right;\">\n",
       "      <th></th>\n",
       "      <th>호선</th>\n",
       "      <th>역명</th>\n",
       "      <th>엘리베이터(E/V)</th>\n",
       "      <th>에스컬레이터(E/S)</th>\n",
       "      <th>휠체어리프트(W/L)</th>\n",
       "      <th>수평자동보도(M/W)</th>\n",
       "    </tr>\n",
       "  </thead>\n",
       "  <tbody>\n",
       "    <tr>\n",
       "      <th>0</th>\n",
       "      <td>1호선</td>\n",
       "      <td>서울역(1)</td>\n",
       "      <td>4</td>\n",
       "      <td>5</td>\n",
       "      <td>1</td>\n",
       "      <td>0</td>\n",
       "    </tr>\n",
       "    <tr>\n",
       "      <th>1</th>\n",
       "      <td>1호선</td>\n",
       "      <td>시청(1)</td>\n",
       "      <td>3</td>\n",
       "      <td>3</td>\n",
       "      <td>0</td>\n",
       "      <td>0</td>\n",
       "    </tr>\n",
       "    <tr>\n",
       "      <th>2</th>\n",
       "      <td>1호선</td>\n",
       "      <td>종각</td>\n",
       "      <td>4</td>\n",
       "      <td>2</td>\n",
       "      <td>0</td>\n",
       "      <td>0</td>\n",
       "    </tr>\n",
       "    <tr>\n",
       "      <th>3</th>\n",
       "      <td>1호선</td>\n",
       "      <td>종로3가(1)</td>\n",
       "      <td>3</td>\n",
       "      <td>4</td>\n",
       "      <td>0</td>\n",
       "      <td>0</td>\n",
       "    </tr>\n",
       "    <tr>\n",
       "      <th>4</th>\n",
       "      <td>1호선</td>\n",
       "      <td>종로5가</td>\n",
       "      <td>3</td>\n",
       "      <td>0</td>\n",
       "      <td>0</td>\n",
       "      <td>0</td>\n",
       "    </tr>\n",
       "    <tr>\n",
       "      <th>...</th>\n",
       "      <td>...</td>\n",
       "      <td>...</td>\n",
       "      <td>...</td>\n",
       "      <td>...</td>\n",
       "      <td>...</td>\n",
       "      <td>...</td>\n",
       "    </tr>\n",
       "    <tr>\n",
       "      <th>281</th>\n",
       "      <td>9호선</td>\n",
       "      <td>송파나루역</td>\n",
       "      <td>5</td>\n",
       "      <td>6</td>\n",
       "      <td>0</td>\n",
       "      <td>0</td>\n",
       "    </tr>\n",
       "    <tr>\n",
       "      <th>282</th>\n",
       "      <td>9호선</td>\n",
       "      <td>한성백제역</td>\n",
       "      <td>3</td>\n",
       "      <td>12</td>\n",
       "      <td>0</td>\n",
       "      <td>0</td>\n",
       "    </tr>\n",
       "    <tr>\n",
       "      <th>283</th>\n",
       "      <td>9호선</td>\n",
       "      <td>올림픽공원역</td>\n",
       "      <td>3</td>\n",
       "      <td>14</td>\n",
       "      <td>0</td>\n",
       "      <td>0</td>\n",
       "    </tr>\n",
       "    <tr>\n",
       "      <th>284</th>\n",
       "      <td>9호선</td>\n",
       "      <td>둔촌오륜역</td>\n",
       "      <td>3</td>\n",
       "      <td>8</td>\n",
       "      <td>0</td>\n",
       "      <td>0</td>\n",
       "    </tr>\n",
       "    <tr>\n",
       "      <th>285</th>\n",
       "      <td>9호선</td>\n",
       "      <td>중앙보훈병원역</td>\n",
       "      <td>5</td>\n",
       "      <td>10</td>\n",
       "      <td>0</td>\n",
       "      <td>0</td>\n",
       "    </tr>\n",
       "  </tbody>\n",
       "</table>\n",
       "<p>286 rows × 6 columns</p>\n",
       "</div>"
      ],
      "text/plain": [
       "      호선       역명  엘리베이터(E/V)  에스컬레이터(E/S)  휠체어리프트(W/L)  수평자동보도(M/W)\n",
       "0    1호선   서울역(1)           4            5            1            0\n",
       "1    1호선    시청(1)           3            3            0            0\n",
       "2    1호선       종각           4            2            0            0\n",
       "3    1호선  종로3가(1)           3            4            0            0\n",
       "4    1호선     종로5가           3            0            0            0\n",
       "..   ...      ...         ...          ...          ...          ...\n",
       "281  9호선    송파나루역           5            6            0            0\n",
       "282  9호선    한성백제역           3           12            0            0\n",
       "283  9호선   올림픽공원역           3           14            0            0\n",
       "284  9호선    둔촌오륜역           3            8            0            0\n",
       "285  9호선  중앙보훈병원역           5           10            0            0\n",
       "\n",
       "[286 rows x 6 columns]"
      ]
     },
     "execution_count": 70,
     "metadata": {},
     "output_type": "execute_result"
    }
   ],
   "source": [
    "sub"
   ]
  },
  {
   "cell_type": "code",
   "execution_count": 71,
   "id": "50e4f98e",
   "metadata": {
    "ExecuteTime": {
     "end_time": "2023-10-17T02:00:12.460849Z",
     "start_time": "2023-10-17T02:00:12.445635Z"
    }
   },
   "outputs": [],
   "source": [
    "# 사용하지 않는 컬럼 제거"
   ]
  },
  {
   "cell_type": "code",
   "execution_count": 72,
   "id": "200ed72c",
   "metadata": {
    "ExecuteTime": {
     "end_time": "2023-10-17T02:00:12.660883Z",
     "start_time": "2023-10-17T02:00:12.628275Z"
    }
   },
   "outputs": [
    {
     "data": {
      "text/html": [
       "<div>\n",
       "<style scoped>\n",
       "    .dataframe tbody tr th:only-of-type {\n",
       "        vertical-align: middle;\n",
       "    }\n",
       "\n",
       "    .dataframe tbody tr th {\n",
       "        vertical-align: top;\n",
       "    }\n",
       "\n",
       "    .dataframe thead th {\n",
       "        text-align: right;\n",
       "    }\n",
       "</style>\n",
       "<table border=\"1\" class=\"dataframe\">\n",
       "  <thead>\n",
       "    <tr style=\"text-align: right;\">\n",
       "      <th></th>\n",
       "      <th>호선</th>\n",
       "      <th>휠체어리프트(W/L)</th>\n",
       "    </tr>\n",
       "  </thead>\n",
       "  <tbody>\n",
       "    <tr>\n",
       "      <th>0</th>\n",
       "      <td>1호선</td>\n",
       "      <td>1</td>\n",
       "    </tr>\n",
       "    <tr>\n",
       "      <th>1</th>\n",
       "      <td>1호선</td>\n",
       "      <td>0</td>\n",
       "    </tr>\n",
       "    <tr>\n",
       "      <th>2</th>\n",
       "      <td>1호선</td>\n",
       "      <td>0</td>\n",
       "    </tr>\n",
       "    <tr>\n",
       "      <th>3</th>\n",
       "      <td>1호선</td>\n",
       "      <td>0</td>\n",
       "    </tr>\n",
       "    <tr>\n",
       "      <th>4</th>\n",
       "      <td>1호선</td>\n",
       "      <td>0</td>\n",
       "    </tr>\n",
       "    <tr>\n",
       "      <th>...</th>\n",
       "      <td>...</td>\n",
       "      <td>...</td>\n",
       "    </tr>\n",
       "    <tr>\n",
       "      <th>281</th>\n",
       "      <td>9호선</td>\n",
       "      <td>0</td>\n",
       "    </tr>\n",
       "    <tr>\n",
       "      <th>282</th>\n",
       "      <td>9호선</td>\n",
       "      <td>0</td>\n",
       "    </tr>\n",
       "    <tr>\n",
       "      <th>283</th>\n",
       "      <td>9호선</td>\n",
       "      <td>0</td>\n",
       "    </tr>\n",
       "    <tr>\n",
       "      <th>284</th>\n",
       "      <td>9호선</td>\n",
       "      <td>0</td>\n",
       "    </tr>\n",
       "    <tr>\n",
       "      <th>285</th>\n",
       "      <td>9호선</td>\n",
       "      <td>0</td>\n",
       "    </tr>\n",
       "  </tbody>\n",
       "</table>\n",
       "<p>286 rows × 2 columns</p>\n",
       "</div>"
      ],
      "text/plain": [
       "      호선  휠체어리프트(W/L)\n",
       "0    1호선            1\n",
       "1    1호선            0\n",
       "2    1호선            0\n",
       "3    1호선            0\n",
       "4    1호선            0\n",
       "..   ...          ...\n",
       "281  9호선            0\n",
       "282  9호선            0\n",
       "283  9호선            0\n",
       "284  9호선            0\n",
       "285  9호선            0\n",
       "\n",
       "[286 rows x 2 columns]"
      ]
     },
     "execution_count": 72,
     "metadata": {},
     "output_type": "execute_result"
    }
   ],
   "source": [
    "del sub['역명']\n",
    "del sub['에스컬레이터(E/S)']\n",
    "del sub['수평자동보도(M/W)']\n",
    "del sub['엘리베이터(E/V)']\n",
    "\n",
    "sub"
   ]
  },
  {
   "cell_type": "code",
   "execution_count": 73,
   "id": "e6faff3a",
   "metadata": {
    "ExecuteTime": {
     "end_time": "2023-10-17T02:00:12.811811Z",
     "start_time": "2023-10-17T02:00:12.804988Z"
    }
   },
   "outputs": [],
   "source": [
    "# 9호선 제거\n",
    "sub = sub[~sub['호선'].str.contains('9호선', na=False)]"
   ]
  },
  {
   "cell_type": "code",
   "execution_count": 74,
   "id": "ce148d70",
   "metadata": {
    "ExecuteTime": {
     "end_time": "2023-10-17T02:00:12.993301Z",
     "start_time": "2023-10-17T02:00:12.961912Z"
    }
   },
   "outputs": [
    {
     "name": "stdout",
     "output_type": "stream",
     "text": [
      "<class 'pandas.core.frame.DataFrame'>\n",
      "Int64Index: 273 entries, 0 to 272\n",
      "Data columns (total 2 columns):\n",
      " #   Column       Non-Null Count  Dtype \n",
      "---  ------       --------------  ----- \n",
      " 0   호선           273 non-null    object\n",
      " 1   휠체어리프트(W/L)  273 non-null    int64 \n",
      "dtypes: int64(1), object(1)\n",
      "memory usage: 6.4+ KB\n"
     ]
    }
   ],
   "source": [
    "# 데이터형식 확인\n",
    "sub.info()"
   ]
  },
  {
   "cell_type": "code",
   "execution_count": 75,
   "id": "e7d124e9",
   "metadata": {
    "ExecuteTime": {
     "end_time": "2023-10-17T02:00:13.160907Z",
     "start_time": "2023-10-17T02:00:13.141400Z"
    }
   },
   "outputs": [
    {
     "name": "stderr",
     "output_type": "stream",
     "text": [
      "C:\\Users\\NT551_11TH\\AppData\\Local\\Temp\\ipykernel_5220\\3623578363.py:2: SettingWithCopyWarning: \n",
      "A value is trying to be set on a copy of a slice from a DataFrame\n",
      "\n",
      "See the caveats in the documentation: https://pandas.pydata.org/pandas-docs/stable/user_guide/indexing.html#returning-a-view-versus-a-copy\n",
      "  sub.rename(columns = {'휠체어리프트(W/L)':'WL'}, inplace = True)\n"
     ]
    }
   ],
   "source": [
    "# 컬럼 명 변경\n",
    "sub.rename(columns = {'휠체어리프트(W/L)':'WL'}, inplace = True)"
   ]
  },
  {
   "cell_type": "code",
   "execution_count": 76,
   "id": "2c09e933",
   "metadata": {
    "ExecuteTime": {
     "end_time": "2023-10-17T02:00:13.327562Z",
     "start_time": "2023-10-17T02:00:13.303760Z"
    }
   },
   "outputs": [
    {
     "name": "stderr",
     "output_type": "stream",
     "text": [
      "C:\\Users\\NT551_11TH\\AppData\\Local\\Temp\\ipykernel_5220\\168855511.py:2: SettingWithCopyWarning: \n",
      "A value is trying to be set on a copy of a slice from a DataFrame\n",
      "\n",
      "See the caveats in the documentation: https://pandas.pydata.org/pandas-docs/stable/user_guide/indexing.html#returning-a-view-versus-a-copy\n",
      "  sub['WL'][sub['WL'] > 1] = 1\n",
      "C:\\Users\\NT551_11TH\\AppData\\Local\\Temp\\ipykernel_5220\\168855511.py:2: SettingWithCopyWarning: \n",
      "A value is trying to be set on a copy of a slice from a DataFrame\n",
      "\n",
      "See the caveats in the documentation: https://pandas.pydata.org/pandas-docs/stable/user_guide/indexing.html#returning-a-view-versus-a-copy\n",
      "  sub['WL'][sub['WL'] > 1] = 1\n"
     ]
    }
   ],
   "source": [
    "# 도입 여부만 확인하기 위해 도입 대수 1 초과 값을 1로 수정\n",
    "sub['WL'][sub['WL'] > 1] = 1"
   ]
  },
  {
   "cell_type": "code",
   "execution_count": 77,
   "id": "e94e02f4",
   "metadata": {
    "ExecuteTime": {
     "end_time": "2023-10-17T02:00:13.494270Z",
     "start_time": "2023-10-17T02:00:13.482084Z"
    }
   },
   "outputs": [
    {
     "data": {
      "text/plain": [
       "61"
      ]
     },
     "execution_count": 77,
     "metadata": {},
     "output_type": "execute_result"
    }
   ],
   "source": [
    "# 휠체어리프트 설치 역 수\n",
    "sub_wl = sub['WL'].sum()\n",
    "sub_wl"
   ]
  },
  {
   "cell_type": "code",
   "execution_count": 78,
   "id": "34cfe916",
   "metadata": {
    "ExecuteTime": {
     "end_time": "2023-10-17T02:00:13.659341Z",
     "start_time": "2023-10-17T02:00:13.649178Z"
    }
   },
   "outputs": [
    {
     "data": {
      "text/html": [
       "<div>\n",
       "<style scoped>\n",
       "    .dataframe tbody tr th:only-of-type {\n",
       "        vertical-align: middle;\n",
       "    }\n",
       "\n",
       "    .dataframe tbody tr th {\n",
       "        vertical-align: top;\n",
       "    }\n",
       "\n",
       "    .dataframe thead th {\n",
       "        text-align: right;\n",
       "    }\n",
       "</style>\n",
       "<table border=\"1\" class=\"dataframe\">\n",
       "  <thead>\n",
       "    <tr style=\"text-align: right;\">\n",
       "      <th></th>\n",
       "      <th>WL</th>\n",
       "    </tr>\n",
       "    <tr>\n",
       "      <th>호선</th>\n",
       "      <th></th>\n",
       "    </tr>\n",
       "  </thead>\n",
       "  <tbody>\n",
       "    <tr>\n",
       "      <th>1호선</th>\n",
       "      <td>3</td>\n",
       "    </tr>\n",
       "    <tr>\n",
       "      <th>2호선</th>\n",
       "      <td>6</td>\n",
       "    </tr>\n",
       "    <tr>\n",
       "      <th>3호선</th>\n",
       "      <td>2</td>\n",
       "    </tr>\n",
       "    <tr>\n",
       "      <th>4호선</th>\n",
       "      <td>6</td>\n",
       "    </tr>\n",
       "    <tr>\n",
       "      <th>5호선</th>\n",
       "      <td>10</td>\n",
       "    </tr>\n",
       "    <tr>\n",
       "      <th>6호선</th>\n",
       "      <td>17</td>\n",
       "    </tr>\n",
       "    <tr>\n",
       "      <th>7호선</th>\n",
       "      <td>14</td>\n",
       "    </tr>\n",
       "    <tr>\n",
       "      <th>8호선</th>\n",
       "      <td>3</td>\n",
       "    </tr>\n",
       "  </tbody>\n",
       "</table>\n",
       "</div>"
      ],
      "text/plain": [
       "     WL\n",
       "호선     \n",
       "1호선   3\n",
       "2호선   6\n",
       "3호선   2\n",
       "4호선   6\n",
       "5호선  10\n",
       "6호선  17\n",
       "7호선  14\n",
       "8호선   3"
      ]
     },
     "execution_count": 78,
     "metadata": {},
     "output_type": "execute_result"
    }
   ],
   "source": [
    "# 호선별 설치 역 수 \n",
    "wl = sub.groupby(by = '호선').sum()\n",
    "wl"
   ]
  },
  {
   "cell_type": "code",
   "execution_count": 79,
   "id": "263820cc",
   "metadata": {
    "ExecuteTime": {
     "end_time": "2023-10-17T02:00:13.827608Z",
     "start_time": "2023-10-17T02:00:13.820080Z"
    }
   },
   "outputs": [],
   "source": [
    "# 지하철역 데이터 로드"
   ]
  },
  {
   "cell_type": "code",
   "execution_count": 80,
   "id": "4bf895de",
   "metadata": {
    "ExecuteTime": {
     "end_time": "2023-10-17T02:00:14.144212Z",
     "start_time": "2023-10-17T02:00:13.994972Z"
    }
   },
   "outputs": [],
   "source": [
    "sta = pd.read_excel(path + '/서울교통공사 노선별 지하철역 정보.xlsx')"
   ]
  },
  {
   "cell_type": "code",
   "execution_count": 81,
   "id": "b5763708",
   "metadata": {
    "ExecuteTime": {
     "end_time": "2023-10-17T02:00:14.194306Z",
     "start_time": "2023-10-17T02:00:14.168720Z"
    }
   },
   "outputs": [
    {
     "data": {
      "text/html": [
       "<div>\n",
       "<style scoped>\n",
       "    .dataframe tbody tr th:only-of-type {\n",
       "        vertical-align: middle;\n",
       "    }\n",
       "\n",
       "    .dataframe tbody tr th {\n",
       "        vertical-align: top;\n",
       "    }\n",
       "\n",
       "    .dataframe thead th {\n",
       "        text-align: right;\n",
       "    }\n",
       "</style>\n",
       "<table border=\"1\" class=\"dataframe\">\n",
       "  <thead>\n",
       "    <tr style=\"text-align: right;\">\n",
       "      <th></th>\n",
       "      <th>전철역명</th>\n",
       "      <th>호선</th>\n",
       "    </tr>\n",
       "  </thead>\n",
       "  <tbody>\n",
       "    <tr>\n",
       "      <th>0</th>\n",
       "      <td>소요산</td>\n",
       "      <td>01호선</td>\n",
       "    </tr>\n",
       "    <tr>\n",
       "      <th>1</th>\n",
       "      <td>동두천</td>\n",
       "      <td>01호선</td>\n",
       "    </tr>\n",
       "    <tr>\n",
       "      <th>2</th>\n",
       "      <td>보산</td>\n",
       "      <td>01호선</td>\n",
       "    </tr>\n",
       "    <tr>\n",
       "      <th>3</th>\n",
       "      <td>덕정</td>\n",
       "      <td>01호선</td>\n",
       "    </tr>\n",
       "    <tr>\n",
       "      <th>4</th>\n",
       "      <td>지행</td>\n",
       "      <td>01호선</td>\n",
       "    </tr>\n",
       "    <tr>\n",
       "      <th>...</th>\n",
       "      <td>...</td>\n",
       "      <td>...</td>\n",
       "    </tr>\n",
       "    <tr>\n",
       "      <th>772</th>\n",
       "      <td>박촌</td>\n",
       "      <td>인천선</td>\n",
       "    </tr>\n",
       "    <tr>\n",
       "      <th>773</th>\n",
       "      <td>선학</td>\n",
       "      <td>인천선</td>\n",
       "    </tr>\n",
       "    <tr>\n",
       "      <th>774</th>\n",
       "      <td>귤현</td>\n",
       "      <td>인천선</td>\n",
       "    </tr>\n",
       "    <tr>\n",
       "      <th>775</th>\n",
       "      <td>동막</td>\n",
       "      <td>인천선</td>\n",
       "    </tr>\n",
       "    <tr>\n",
       "      <th>776</th>\n",
       "      <td>계양</td>\n",
       "      <td>인천선</td>\n",
       "    </tr>\n",
       "  </tbody>\n",
       "</table>\n",
       "<p>777 rows × 2 columns</p>\n",
       "</div>"
      ],
      "text/plain": [
       "    전철역명    호선\n",
       "0    소요산  01호선\n",
       "1    동두천  01호선\n",
       "2     보산  01호선\n",
       "3     덕정  01호선\n",
       "4     지행  01호선\n",
       "..   ...   ...\n",
       "772   박촌   인천선\n",
       "773   선학   인천선\n",
       "774   귤현   인천선\n",
       "775   동막   인천선\n",
       "776   계양   인천선\n",
       "\n",
       "[777 rows x 2 columns]"
      ]
     },
     "execution_count": 81,
     "metadata": {},
     "output_type": "execute_result"
    }
   ],
   "source": [
    "# 사용하지 않는 컬럼 제거\n",
    "del sta['전철역코드']\n",
    "del sta['외부코드']\n",
    "del sta['전철명명(중문)']\n",
    "del sta['전철명명(일문)']\n",
    "del sta['전철명명(영문)']\n",
    "sta"
   ]
  },
  {
   "cell_type": "code",
   "execution_count": 82,
   "id": "858fbcac",
   "metadata": {
    "ExecuteTime": {
     "end_time": "2023-10-17T02:00:14.344294Z",
     "start_time": "2023-10-17T02:00:14.312721Z"
    }
   },
   "outputs": [],
   "source": [
    "# 호선 컬럼에 '호선'이 포함된 행만 추출\n",
    "sta = sta[sta['호선'].str.contains('호선', na=False)]"
   ]
  },
  {
   "cell_type": "code",
   "execution_count": 83,
   "id": "4f530407",
   "metadata": {
    "ExecuteTime": {
     "end_time": "2023-10-17T02:00:14.495071Z",
     "start_time": "2023-10-17T02:00:14.484272Z"
    }
   },
   "outputs": [],
   "source": [
    "# '인천'이 포함된 행 제거\n",
    "# ~를 이용해 조건을 반대로 만듦\n",
    "sta = sta[~sta['호선'].str.contains('인천', na=False)]"
   ]
  },
  {
   "cell_type": "code",
   "execution_count": 84,
   "id": "aa5fe296",
   "metadata": {
    "ExecuteTime": {
     "end_time": "2023-10-17T02:00:14.678266Z",
     "start_time": "2023-10-17T02:00:14.669758Z"
    }
   },
   "outputs": [],
   "source": [
    "# 9호선 제거\n",
    "sta = sta[~sta['호선'].str.contains('09호선', na=False)]"
   ]
  },
  {
   "cell_type": "code",
   "execution_count": 85,
   "id": "590470d4",
   "metadata": {
    "ExecuteTime": {
     "end_time": "2023-10-17T02:00:14.844346Z",
     "start_time": "2023-10-17T02:00:14.812092Z"
    }
   },
   "outputs": [
    {
     "data": {
      "text/html": [
       "<div>\n",
       "<style scoped>\n",
       "    .dataframe tbody tr th:only-of-type {\n",
       "        vertical-align: middle;\n",
       "    }\n",
       "\n",
       "    .dataframe tbody tr th {\n",
       "        vertical-align: top;\n",
       "    }\n",
       "\n",
       "    .dataframe thead th {\n",
       "        text-align: right;\n",
       "    }\n",
       "</style>\n",
       "<table border=\"1\" class=\"dataframe\">\n",
       "  <thead>\n",
       "    <tr style=\"text-align: right;\">\n",
       "      <th></th>\n",
       "      <th>전철역명</th>\n",
       "      <th>호선</th>\n",
       "    </tr>\n",
       "  </thead>\n",
       "  <tbody>\n",
       "    <tr>\n",
       "      <th>0</th>\n",
       "      <td>소요산</td>\n",
       "      <td>01호선</td>\n",
       "    </tr>\n",
       "    <tr>\n",
       "      <th>1</th>\n",
       "      <td>동두천</td>\n",
       "      <td>01호선</td>\n",
       "    </tr>\n",
       "    <tr>\n",
       "      <th>2</th>\n",
       "      <td>보산</td>\n",
       "      <td>01호선</td>\n",
       "    </tr>\n",
       "    <tr>\n",
       "      <th>3</th>\n",
       "      <td>덕정</td>\n",
       "      <td>01호선</td>\n",
       "    </tr>\n",
       "    <tr>\n",
       "      <th>4</th>\n",
       "      <td>지행</td>\n",
       "      <td>01호선</td>\n",
       "    </tr>\n",
       "    <tr>\n",
       "      <th>...</th>\n",
       "      <td>...</td>\n",
       "      <td>...</td>\n",
       "    </tr>\n",
       "    <tr>\n",
       "      <th>406</th>\n",
       "      <td>석촌</td>\n",
       "      <td>08호선</td>\n",
       "    </tr>\n",
       "    <tr>\n",
       "      <th>407</th>\n",
       "      <td>잠실</td>\n",
       "      <td>08호선</td>\n",
       "    </tr>\n",
       "    <tr>\n",
       "      <th>408</th>\n",
       "      <td>강동구청</td>\n",
       "      <td>08호선</td>\n",
       "    </tr>\n",
       "    <tr>\n",
       "      <th>409</th>\n",
       "      <td>천호</td>\n",
       "      <td>08호선</td>\n",
       "    </tr>\n",
       "    <tr>\n",
       "      <th>410</th>\n",
       "      <td>암사</td>\n",
       "      <td>08호선</td>\n",
       "    </tr>\n",
       "  </tbody>\n",
       "</table>\n",
       "<p>411 rows × 2 columns</p>\n",
       "</div>"
      ],
      "text/plain": [
       "     전철역명    호선\n",
       "0     소요산  01호선\n",
       "1     동두천  01호선\n",
       "2      보산  01호선\n",
       "3      덕정  01호선\n",
       "4      지행  01호선\n",
       "..    ...   ...\n",
       "406    석촌  08호선\n",
       "407    잠실  08호선\n",
       "408  강동구청  08호선\n",
       "409    천호  08호선\n",
       "410    암사  08호선\n",
       "\n",
       "[411 rows x 2 columns]"
      ]
     },
     "execution_count": 85,
     "metadata": {},
     "output_type": "execute_result"
    }
   ],
   "source": [
    "sta"
   ]
  },
  {
   "cell_type": "code",
   "execution_count": 86,
   "id": "f1a4df72",
   "metadata": {
    "ExecuteTime": {
     "end_time": "2023-10-17T02:00:15.010982Z",
     "start_time": "2023-10-17T02:00:14.993278Z"
    }
   },
   "outputs": [
    {
     "data": {
      "text/html": [
       "<div>\n",
       "<style scoped>\n",
       "    .dataframe tbody tr th:only-of-type {\n",
       "        vertical-align: middle;\n",
       "    }\n",
       "\n",
       "    .dataframe tbody tr th {\n",
       "        vertical-align: top;\n",
       "    }\n",
       "\n",
       "    .dataframe thead th {\n",
       "        text-align: right;\n",
       "    }\n",
       "</style>\n",
       "<table border=\"1\" class=\"dataframe\">\n",
       "  <thead>\n",
       "    <tr style=\"text-align: right;\">\n",
       "      <th></th>\n",
       "      <th>전철역명</th>\n",
       "      <th>호선</th>\n",
       "    </tr>\n",
       "  </thead>\n",
       "  <tbody>\n",
       "    <tr>\n",
       "      <th>0</th>\n",
       "      <td>소요산</td>\n",
       "      <td>01호선</td>\n",
       "    </tr>\n",
       "    <tr>\n",
       "      <th>1</th>\n",
       "      <td>동두천</td>\n",
       "      <td>01호선</td>\n",
       "    </tr>\n",
       "    <tr>\n",
       "      <th>2</th>\n",
       "      <td>보산</td>\n",
       "      <td>01호선</td>\n",
       "    </tr>\n",
       "    <tr>\n",
       "      <th>3</th>\n",
       "      <td>덕정</td>\n",
       "      <td>01호선</td>\n",
       "    </tr>\n",
       "    <tr>\n",
       "      <th>4</th>\n",
       "      <td>지행</td>\n",
       "      <td>01호선</td>\n",
       "    </tr>\n",
       "    <tr>\n",
       "      <th>...</th>\n",
       "      <td>...</td>\n",
       "      <td>...</td>\n",
       "    </tr>\n",
       "    <tr>\n",
       "      <th>403</th>\n",
       "      <td>문정</td>\n",
       "      <td>08호선</td>\n",
       "    </tr>\n",
       "    <tr>\n",
       "      <th>405</th>\n",
       "      <td>송파</td>\n",
       "      <td>08호선</td>\n",
       "    </tr>\n",
       "    <tr>\n",
       "      <th>406</th>\n",
       "      <td>석촌</td>\n",
       "      <td>08호선</td>\n",
       "    </tr>\n",
       "    <tr>\n",
       "      <th>408</th>\n",
       "      <td>강동구청</td>\n",
       "      <td>08호선</td>\n",
       "    </tr>\n",
       "    <tr>\n",
       "      <th>410</th>\n",
       "      <td>암사</td>\n",
       "      <td>08호선</td>\n",
       "    </tr>\n",
       "  </tbody>\n",
       "</table>\n",
       "<p>367 rows × 2 columns</p>\n",
       "</div>"
      ],
      "text/plain": [
       "     전철역명    호선\n",
       "0     소요산  01호선\n",
       "1     동두천  01호선\n",
       "2      보산  01호선\n",
       "3      덕정  01호선\n",
       "4      지행  01호선\n",
       "..    ...   ...\n",
       "403    문정  08호선\n",
       "405    송파  08호선\n",
       "406    석촌  08호선\n",
       "408  강동구청  08호선\n",
       "410    암사  08호선\n",
       "\n",
       "[367 rows x 2 columns]"
      ]
     },
     "execution_count": 86,
     "metadata": {},
     "output_type": "execute_result"
    }
   ],
   "source": [
    "# 중복역 제거\n",
    "st = sta.drop_duplicates(subset=['전철역명'])\n",
    "st"
   ]
  },
  {
   "cell_type": "code",
   "execution_count": 87,
   "id": "565e5b57",
   "metadata": {
    "ExecuteTime": {
     "end_time": "2023-10-17T02:00:15.194339Z",
     "start_time": "2023-10-17T02:00:15.169371Z"
    }
   },
   "outputs": [
    {
     "name": "stderr",
     "output_type": "stream",
     "text": [
      "C:\\Users\\NT551_11TH\\AppData\\Local\\Temp\\ipykernel_5220\\908657762.py:2: SettingWithCopyWarning: \n",
      "A value is trying to be set on a copy of a slice from a DataFrame.\n",
      "Try using .loc[row_indexer,col_indexer] = value instead\n",
      "\n",
      "See the caveats in the documentation: https://pandas.pydata.org/pandas-docs/stable/user_guide/indexing.html#returning-a-view-versus-a-copy\n",
      "  st['count'] = 1\n"
     ]
    },
    {
     "data": {
      "text/html": [
       "<div>\n",
       "<style scoped>\n",
       "    .dataframe tbody tr th:only-of-type {\n",
       "        vertical-align: middle;\n",
       "    }\n",
       "\n",
       "    .dataframe tbody tr th {\n",
       "        vertical-align: top;\n",
       "    }\n",
       "\n",
       "    .dataframe thead th {\n",
       "        text-align: right;\n",
       "    }\n",
       "</style>\n",
       "<table border=\"1\" class=\"dataframe\">\n",
       "  <thead>\n",
       "    <tr style=\"text-align: right;\">\n",
       "      <th></th>\n",
       "      <th>전철역명</th>\n",
       "      <th>호선</th>\n",
       "      <th>count</th>\n",
       "    </tr>\n",
       "  </thead>\n",
       "  <tbody>\n",
       "    <tr>\n",
       "      <th>0</th>\n",
       "      <td>소요산</td>\n",
       "      <td>01호선</td>\n",
       "      <td>1</td>\n",
       "    </tr>\n",
       "    <tr>\n",
       "      <th>1</th>\n",
       "      <td>동두천</td>\n",
       "      <td>01호선</td>\n",
       "      <td>1</td>\n",
       "    </tr>\n",
       "    <tr>\n",
       "      <th>2</th>\n",
       "      <td>보산</td>\n",
       "      <td>01호선</td>\n",
       "      <td>1</td>\n",
       "    </tr>\n",
       "    <tr>\n",
       "      <th>3</th>\n",
       "      <td>덕정</td>\n",
       "      <td>01호선</td>\n",
       "      <td>1</td>\n",
       "    </tr>\n",
       "    <tr>\n",
       "      <th>4</th>\n",
       "      <td>지행</td>\n",
       "      <td>01호선</td>\n",
       "      <td>1</td>\n",
       "    </tr>\n",
       "    <tr>\n",
       "      <th>...</th>\n",
       "      <td>...</td>\n",
       "      <td>...</td>\n",
       "      <td>...</td>\n",
       "    </tr>\n",
       "    <tr>\n",
       "      <th>403</th>\n",
       "      <td>문정</td>\n",
       "      <td>08호선</td>\n",
       "      <td>1</td>\n",
       "    </tr>\n",
       "    <tr>\n",
       "      <th>405</th>\n",
       "      <td>송파</td>\n",
       "      <td>08호선</td>\n",
       "      <td>1</td>\n",
       "    </tr>\n",
       "    <tr>\n",
       "      <th>406</th>\n",
       "      <td>석촌</td>\n",
       "      <td>08호선</td>\n",
       "      <td>1</td>\n",
       "    </tr>\n",
       "    <tr>\n",
       "      <th>408</th>\n",
       "      <td>강동구청</td>\n",
       "      <td>08호선</td>\n",
       "      <td>1</td>\n",
       "    </tr>\n",
       "    <tr>\n",
       "      <th>410</th>\n",
       "      <td>암사</td>\n",
       "      <td>08호선</td>\n",
       "      <td>1</td>\n",
       "    </tr>\n",
       "  </tbody>\n",
       "</table>\n",
       "<p>367 rows × 3 columns</p>\n",
       "</div>"
      ],
      "text/plain": [
       "     전철역명    호선  count\n",
       "0     소요산  01호선      1\n",
       "1     동두천  01호선      1\n",
       "2      보산  01호선      1\n",
       "3      덕정  01호선      1\n",
       "4      지행  01호선      1\n",
       "..    ...   ...    ...\n",
       "403    문정  08호선      1\n",
       "405    송파  08호선      1\n",
       "406    석촌  08호선      1\n",
       "408  강동구청  08호선      1\n",
       "410    암사  08호선      1\n",
       "\n",
       "[367 rows x 3 columns]"
      ]
     },
     "execution_count": 87,
     "metadata": {},
     "output_type": "execute_result"
    }
   ],
   "source": [
    "# 역 개수를 세기 위한 열 생성\n",
    "st['count'] = 1\n",
    "st"
   ]
  },
  {
   "cell_type": "code",
   "execution_count": 88,
   "id": "004771b9",
   "metadata": {
    "ExecuteTime": {
     "end_time": "2023-10-17T02:00:15.361113Z",
     "start_time": "2023-10-17T02:00:15.331402Z"
    }
   },
   "outputs": [
    {
     "name": "stderr",
     "output_type": "stream",
     "text": [
      "C:\\Users\\NT551_11TH\\AppData\\Local\\Temp\\ipykernel_5220\\774434581.py:2: FutureWarning: The default value of numeric_only in DataFrameGroupBy.sum is deprecated. In a future version, numeric_only will default to False. Either specify numeric_only or select only columns which should be valid for the function.\n",
      "  st = st.groupby(by = '호선').sum()\n"
     ]
    },
    {
     "data": {
      "text/html": [
       "<div>\n",
       "<style scoped>\n",
       "    .dataframe tbody tr th:only-of-type {\n",
       "        vertical-align: middle;\n",
       "    }\n",
       "\n",
       "    .dataframe tbody tr th {\n",
       "        vertical-align: top;\n",
       "    }\n",
       "\n",
       "    .dataframe thead th {\n",
       "        text-align: right;\n",
       "    }\n",
       "</style>\n",
       "<table border=\"1\" class=\"dataframe\">\n",
       "  <thead>\n",
       "    <tr style=\"text-align: right;\">\n",
       "      <th></th>\n",
       "      <th>count</th>\n",
       "    </tr>\n",
       "    <tr>\n",
       "      <th>호선</th>\n",
       "      <th></th>\n",
       "    </tr>\n",
       "  </thead>\n",
       "  <tbody>\n",
       "    <tr>\n",
       "      <th>01호선</th>\n",
       "      <td>99</td>\n",
       "    </tr>\n",
       "    <tr>\n",
       "      <th>02호선</th>\n",
       "      <td>48</td>\n",
       "    </tr>\n",
       "    <tr>\n",
       "      <th>03호선</th>\n",
       "      <td>41</td>\n",
       "    </tr>\n",
       "    <tr>\n",
       "      <th>04호선</th>\n",
       "      <td>44</td>\n",
       "    </tr>\n",
       "    <tr>\n",
       "      <th>05호선</th>\n",
       "      <td>47</td>\n",
       "    </tr>\n",
       "    <tr>\n",
       "      <th>06호선</th>\n",
       "      <td>29</td>\n",
       "    </tr>\n",
       "    <tr>\n",
       "      <th>07호선</th>\n",
       "      <td>44</td>\n",
       "    </tr>\n",
       "    <tr>\n",
       "      <th>08호선</th>\n",
       "      <td>15</td>\n",
       "    </tr>\n",
       "  </tbody>\n",
       "</table>\n",
       "</div>"
      ],
      "text/plain": [
       "      count\n",
       "호선         \n",
       "01호선     99\n",
       "02호선     48\n",
       "03호선     41\n",
       "04호선     44\n",
       "05호선     47\n",
       "06호선     29\n",
       "07호선     44\n",
       "08호선     15"
      ]
     },
     "execution_count": 88,
     "metadata": {},
     "output_type": "execute_result"
    }
   ],
   "source": [
    "# 호선별 역 수 추출\n",
    "st = st.groupby(by = '호선').sum()\n",
    "st"
   ]
  },
  {
   "cell_type": "code",
   "execution_count": 89,
   "id": "d2f5970c",
   "metadata": {
    "ExecuteTime": {
     "end_time": "2023-10-17T02:00:15.527687Z",
     "start_time": "2023-10-17T02:00:15.512639Z"
    }
   },
   "outputs": [],
   "source": [
    "# Index로 설정되어있던 '호선'을 컬럼으로 추출\n",
    "st = st.reset_index()"
   ]
  },
  {
   "cell_type": "code",
   "execution_count": 90,
   "id": "11349d65",
   "metadata": {
    "ExecuteTime": {
     "end_time": "2023-10-17T02:00:15.711026Z",
     "start_time": "2023-10-17T02:00:15.687505Z"
    }
   },
   "outputs": [
    {
     "data": {
      "text/html": [
       "<div>\n",
       "<style scoped>\n",
       "    .dataframe tbody tr th:only-of-type {\n",
       "        vertical-align: middle;\n",
       "    }\n",
       "\n",
       "    .dataframe tbody tr th {\n",
       "        vertical-align: top;\n",
       "    }\n",
       "\n",
       "    .dataframe thead th {\n",
       "        text-align: right;\n",
       "    }\n",
       "</style>\n",
       "<table border=\"1\" class=\"dataframe\">\n",
       "  <thead>\n",
       "    <tr style=\"text-align: right;\">\n",
       "      <th></th>\n",
       "      <th>호선</th>\n",
       "      <th>count</th>\n",
       "    </tr>\n",
       "  </thead>\n",
       "  <tbody>\n",
       "    <tr>\n",
       "      <th>0</th>\n",
       "      <td>1호선</td>\n",
       "      <td>99</td>\n",
       "    </tr>\n",
       "    <tr>\n",
       "      <th>1</th>\n",
       "      <td>2호선</td>\n",
       "      <td>48</td>\n",
       "    </tr>\n",
       "    <tr>\n",
       "      <th>2</th>\n",
       "      <td>3호선</td>\n",
       "      <td>41</td>\n",
       "    </tr>\n",
       "    <tr>\n",
       "      <th>3</th>\n",
       "      <td>4호선</td>\n",
       "      <td>44</td>\n",
       "    </tr>\n",
       "    <tr>\n",
       "      <th>4</th>\n",
       "      <td>5호선</td>\n",
       "      <td>47</td>\n",
       "    </tr>\n",
       "    <tr>\n",
       "      <th>5</th>\n",
       "      <td>6호선</td>\n",
       "      <td>29</td>\n",
       "    </tr>\n",
       "    <tr>\n",
       "      <th>6</th>\n",
       "      <td>7호선</td>\n",
       "      <td>44</td>\n",
       "    </tr>\n",
       "    <tr>\n",
       "      <th>7</th>\n",
       "      <td>8호선</td>\n",
       "      <td>15</td>\n",
       "    </tr>\n",
       "  </tbody>\n",
       "</table>\n",
       "</div>"
      ],
      "text/plain": [
       "    호선  count\n",
       "0  1호선     99\n",
       "1  2호선     48\n",
       "2  3호선     41\n",
       "3  4호선     44\n",
       "4  5호선     47\n",
       "5  6호선     29\n",
       "6  7호선     44\n",
       "7  8호선     15"
      ]
     },
     "execution_count": 90,
     "metadata": {},
     "output_type": "execute_result"
    }
   ],
   "source": [
    "# 01호선, 02호선 ... 을 1호선, 2호선으로 변경\n",
    "\n",
    "st['호선'] = st['호선'].str[1:]\n",
    "st"
   ]
  },
  {
   "cell_type": "code",
   "execution_count": 91,
   "id": "48c8007d",
   "metadata": {
    "ExecuteTime": {
     "end_time": "2023-10-17T02:00:15.894450Z",
     "start_time": "2023-10-17T02:00:15.868069Z"
    }
   },
   "outputs": [
    {
     "data": {
      "text/html": [
       "<div>\n",
       "<style scoped>\n",
       "    .dataframe tbody tr th:only-of-type {\n",
       "        vertical-align: middle;\n",
       "    }\n",
       "\n",
       "    .dataframe tbody tr th {\n",
       "        vertical-align: top;\n",
       "    }\n",
       "\n",
       "    .dataframe thead th {\n",
       "        text-align: right;\n",
       "    }\n",
       "</style>\n",
       "<table border=\"1\" class=\"dataframe\">\n",
       "  <thead>\n",
       "    <tr style=\"text-align: right;\">\n",
       "      <th></th>\n",
       "      <th>호선</th>\n",
       "      <th>WL</th>\n",
       "      <th>count</th>\n",
       "    </tr>\n",
       "  </thead>\n",
       "  <tbody>\n",
       "    <tr>\n",
       "      <th>0</th>\n",
       "      <td>1호선</td>\n",
       "      <td>3</td>\n",
       "      <td>99</td>\n",
       "    </tr>\n",
       "    <tr>\n",
       "      <th>1</th>\n",
       "      <td>2호선</td>\n",
       "      <td>6</td>\n",
       "      <td>48</td>\n",
       "    </tr>\n",
       "    <tr>\n",
       "      <th>2</th>\n",
       "      <td>3호선</td>\n",
       "      <td>2</td>\n",
       "      <td>41</td>\n",
       "    </tr>\n",
       "    <tr>\n",
       "      <th>3</th>\n",
       "      <td>4호선</td>\n",
       "      <td>6</td>\n",
       "      <td>44</td>\n",
       "    </tr>\n",
       "    <tr>\n",
       "      <th>4</th>\n",
       "      <td>5호선</td>\n",
       "      <td>10</td>\n",
       "      <td>47</td>\n",
       "    </tr>\n",
       "    <tr>\n",
       "      <th>5</th>\n",
       "      <td>6호선</td>\n",
       "      <td>17</td>\n",
       "      <td>29</td>\n",
       "    </tr>\n",
       "    <tr>\n",
       "      <th>6</th>\n",
       "      <td>7호선</td>\n",
       "      <td>14</td>\n",
       "      <td>44</td>\n",
       "    </tr>\n",
       "    <tr>\n",
       "      <th>7</th>\n",
       "      <td>8호선</td>\n",
       "      <td>3</td>\n",
       "      <td>15</td>\n",
       "    </tr>\n",
       "  </tbody>\n",
       "</table>\n",
       "</div>"
      ],
      "text/plain": [
       "    호선  WL  count\n",
       "0  1호선   3     99\n",
       "1  2호선   6     48\n",
       "2  3호선   2     41\n",
       "3  4호선   6     44\n",
       "4  5호선  10     47\n",
       "5  6호선  17     29\n",
       "6  7호선  14     44\n",
       "7  8호선   3     15"
      ]
     },
     "execution_count": 91,
     "metadata": {},
     "output_type": "execute_result"
    }
   ],
   "source": [
    "# 호선 컬럼 기준으로 데이터프레임 결합\n",
    "wlst = pd.merge(wl, st, on = '호선')\n",
    "wlst"
   ]
  },
  {
   "cell_type": "code",
   "execution_count": 92,
   "id": "36f3c114",
   "metadata": {
    "ExecuteTime": {
     "end_time": "2023-10-17T02:00:16.061077Z",
     "start_time": "2023-10-17T02:00:16.044410Z"
    }
   },
   "outputs": [
    {
     "data": {
      "text/html": [
       "<div>\n",
       "<style scoped>\n",
       "    .dataframe tbody tr th:only-of-type {\n",
       "        vertical-align: middle;\n",
       "    }\n",
       "\n",
       "    .dataframe tbody tr th {\n",
       "        vertical-align: top;\n",
       "    }\n",
       "\n",
       "    .dataframe thead th {\n",
       "        text-align: right;\n",
       "    }\n",
       "</style>\n",
       "<table border=\"1\" class=\"dataframe\">\n",
       "  <thead>\n",
       "    <tr style=\"text-align: right;\">\n",
       "      <th></th>\n",
       "      <th>호선</th>\n",
       "      <th>WL</th>\n",
       "      <th>count</th>\n",
       "      <th>per</th>\n",
       "    </tr>\n",
       "  </thead>\n",
       "  <tbody>\n",
       "    <tr>\n",
       "      <th>0</th>\n",
       "      <td>1호선</td>\n",
       "      <td>3</td>\n",
       "      <td>99</td>\n",
       "      <td>3.0</td>\n",
       "    </tr>\n",
       "    <tr>\n",
       "      <th>1</th>\n",
       "      <td>2호선</td>\n",
       "      <td>6</td>\n",
       "      <td>48</td>\n",
       "      <td>12.5</td>\n",
       "    </tr>\n",
       "    <tr>\n",
       "      <th>2</th>\n",
       "      <td>3호선</td>\n",
       "      <td>2</td>\n",
       "      <td>41</td>\n",
       "      <td>4.9</td>\n",
       "    </tr>\n",
       "    <tr>\n",
       "      <th>3</th>\n",
       "      <td>4호선</td>\n",
       "      <td>6</td>\n",
       "      <td>44</td>\n",
       "      <td>13.6</td>\n",
       "    </tr>\n",
       "    <tr>\n",
       "      <th>4</th>\n",
       "      <td>5호선</td>\n",
       "      <td>10</td>\n",
       "      <td>47</td>\n",
       "      <td>21.3</td>\n",
       "    </tr>\n",
       "    <tr>\n",
       "      <th>5</th>\n",
       "      <td>6호선</td>\n",
       "      <td>17</td>\n",
       "      <td>29</td>\n",
       "      <td>58.6</td>\n",
       "    </tr>\n",
       "    <tr>\n",
       "      <th>6</th>\n",
       "      <td>7호선</td>\n",
       "      <td>14</td>\n",
       "      <td>44</td>\n",
       "      <td>31.8</td>\n",
       "    </tr>\n",
       "    <tr>\n",
       "      <th>7</th>\n",
       "      <td>8호선</td>\n",
       "      <td>3</td>\n",
       "      <td>15</td>\n",
       "      <td>20.0</td>\n",
       "    </tr>\n",
       "  </tbody>\n",
       "</table>\n",
       "</div>"
      ],
      "text/plain": [
       "    호선  WL  count   per\n",
       "0  1호선   3     99   3.0\n",
       "1  2호선   6     48  12.5\n",
       "2  3호선   2     41   4.9\n",
       "3  4호선   6     44  13.6\n",
       "4  5호선  10     47  21.3\n",
       "5  6호선  17     29  58.6\n",
       "6  7호선  14     44  31.8\n",
       "7  8호선   3     15  20.0"
      ]
     },
     "execution_count": 92,
     "metadata": {},
     "output_type": "execute_result"
    }
   ],
   "source": [
    "wlst['per'] = round(wlst['WL'] / wlst['count'], 3) * 100\n",
    "wlst"
   ]
  },
  {
   "cell_type": "code",
   "execution_count": 93,
   "id": "4d6ea5e1",
   "metadata": {
    "ExecuteTime": {
     "end_time": "2023-10-17T02:00:16.254395Z",
     "start_time": "2023-10-17T02:00:16.235523Z"
    }
   },
   "outputs": [
    {
     "data": {
      "text/html": [
       "<div>\n",
       "<style scoped>\n",
       "    .dataframe tbody tr th:only-of-type {\n",
       "        vertical-align: middle;\n",
       "    }\n",
       "\n",
       "    .dataframe tbody tr th {\n",
       "        vertical-align: top;\n",
       "    }\n",
       "\n",
       "    .dataframe thead th {\n",
       "        text-align: right;\n",
       "    }\n",
       "</style>\n",
       "<table border=\"1\" class=\"dataframe\">\n",
       "  <thead>\n",
       "    <tr style=\"text-align: right;\">\n",
       "      <th></th>\n",
       "      <th>호선</th>\n",
       "      <th>WL</th>\n",
       "      <th>count</th>\n",
       "      <th>per</th>\n",
       "      <th>ho</th>\n",
       "    </tr>\n",
       "  </thead>\n",
       "  <tbody>\n",
       "    <tr>\n",
       "      <th>0</th>\n",
       "      <td>1호선</td>\n",
       "      <td>3</td>\n",
       "      <td>99</td>\n",
       "      <td>3.0</td>\n",
       "      <td>0</td>\n",
       "    </tr>\n",
       "    <tr>\n",
       "      <th>1</th>\n",
       "      <td>2호선</td>\n",
       "      <td>6</td>\n",
       "      <td>48</td>\n",
       "      <td>12.5</td>\n",
       "      <td>1</td>\n",
       "    </tr>\n",
       "    <tr>\n",
       "      <th>2</th>\n",
       "      <td>3호선</td>\n",
       "      <td>2</td>\n",
       "      <td>41</td>\n",
       "      <td>4.9</td>\n",
       "      <td>2</td>\n",
       "    </tr>\n",
       "    <tr>\n",
       "      <th>3</th>\n",
       "      <td>4호선</td>\n",
       "      <td>6</td>\n",
       "      <td>44</td>\n",
       "      <td>13.6</td>\n",
       "      <td>3</td>\n",
       "    </tr>\n",
       "    <tr>\n",
       "      <th>4</th>\n",
       "      <td>5호선</td>\n",
       "      <td>10</td>\n",
       "      <td>47</td>\n",
       "      <td>21.3</td>\n",
       "      <td>4</td>\n",
       "    </tr>\n",
       "    <tr>\n",
       "      <th>5</th>\n",
       "      <td>6호선</td>\n",
       "      <td>17</td>\n",
       "      <td>29</td>\n",
       "      <td>58.6</td>\n",
       "      <td>5</td>\n",
       "    </tr>\n",
       "    <tr>\n",
       "      <th>6</th>\n",
       "      <td>7호선</td>\n",
       "      <td>14</td>\n",
       "      <td>44</td>\n",
       "      <td>31.8</td>\n",
       "      <td>6</td>\n",
       "    </tr>\n",
       "    <tr>\n",
       "      <th>7</th>\n",
       "      <td>8호선</td>\n",
       "      <td>3</td>\n",
       "      <td>15</td>\n",
       "      <td>20.0</td>\n",
       "      <td>7</td>\n",
       "    </tr>\n",
       "  </tbody>\n",
       "</table>\n",
       "</div>"
      ],
      "text/plain": [
       "    호선  WL  count   per  ho\n",
       "0  1호선   3     99   3.0   0\n",
       "1  2호선   6     48  12.5   1\n",
       "2  3호선   2     41   4.9   2\n",
       "3  4호선   6     44  13.6   3\n",
       "4  5호선  10     47  21.3   4\n",
       "5  6호선  17     29  58.6   5\n",
       "6  7호선  14     44  31.8   6\n",
       "7  8호선   3     15  20.0   7"
      ]
     },
     "execution_count": 93,
     "metadata": {},
     "output_type": "execute_result"
    }
   ],
   "source": [
    "wlst['ho'] = wlst.index\n",
    "wlst"
   ]
  },
  {
   "cell_type": "code",
   "execution_count": 97,
   "id": "6bac8872",
   "metadata": {
    "ExecuteTime": {
     "end_time": "2023-10-17T02:04:25.542846Z",
     "start_time": "2023-10-17T02:04:25.388656Z"
    }
   },
   "outputs": [
    {
     "data": {
      "image/png": "[encoded data removed]",
      "text/plain": [
       "<Figure size 640x480 with 1 Axes>"
      ]
     },
     "metadata": {},
     "output_type": "display_data"
    }
   ],
   "source": [
    "# 호선별 색 지정\n",
    "colors = ('#0052A4', '#00A84D', '#EF7C1C', '#00A5DE', '#996CAC', '#CD7C2F', '#747F00', '#E6186C')\n",
    "\n",
    "\n",
    "# 그래프화\n",
    "plt.bar(wlst['호선'], wlst['per'], color = colors)\n",
    "plt.xlabel('호선')\n",
    "plt.ylabel('설치 비율(%)')\n",
    "plt.title('호선별 휠체어리프트 설치 비율')\n",
    "\n",
    "for i, v in enumerate(wlst['per']):\n",
    "    plt.text(i, round(v, 2), str(round(v, 2)) + '%', ha='center', va='bottom')\n",
    "\n",
    "\n",
    "plt.show()"
   ]
  },
  {
   "cell_type": "code",
   "execution_count": null,
   "id": "f1105de6",
   "metadata": {},
   "outputs": [],
   "source": []
  }
 ],
 "metadata": {
  "kernelspec": {
   "display_name": "Python 3 (ipykernel)",
   "language": "python",
   "name": "python3"
  },
  "language_info": {
   "codemirror_mode": {
    "name": "ipython",
    "version": 3
   },
   "file_extension": ".py",
   "mimetype": "text/x-python",
   "name": "python",
   "nbconvert_exporter": "python",
   "pygments_lexer": "ipython3",
   "version": "3.8.17"
  },
  "toc": {
   "base_numbering": 1,
   "nav_menu": {},
   "number_sections": true,
   "sideBar": true,
   "skip_h1_title": false,
   "title_cell": "Table of Contents",
   "title_sidebar": "Contents",
   "toc_cell": false,
   "toc_position": {},
   "toc_section_display": true,
   "toc_window_display": false
  }
 },
 "nbformat": 4,
 "nbformat_minor": 5
}
